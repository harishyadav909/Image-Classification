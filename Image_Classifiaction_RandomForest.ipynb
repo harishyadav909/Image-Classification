{
 "cells": [
  {
   "cell_type": "code",
   "execution_count": 3,
   "metadata": {},
   "outputs": [],
   "source": [
    "from mnist import MNIST\n",
    "import numpy as np\n",
    "from datetime import datetime\n",
    "from scipy.stats import norm\n",
    "from scipy.stats import multivariate_normal as mvn\n",
    "from scipy.stats import bernoulli as brn\n",
    "from matplotlib import pyplot as plt\n",
    "import cv2 as cv\n",
    "from sklearn.ensemble import RandomForestClassifier\n",
    "#import pillow as pil"
   ]
  },
  {
   "cell_type": "code",
   "execution_count": 29,
   "metadata": {},
   "outputs": [],
   "source": [
    "mndata = MNIST('.')\n",
    "tr_images, tr_labels = mndata.load_training()\n",
    "ts_images, ts_labels = mndata.load_testing()"
   ]
  },
  {
   "cell_type": "code",
   "execution_count": 30,
   "metadata": {},
   "outputs": [
    {
     "data": {
      "image/png": "[encoded data removed]",
      "text/plain": [
       "<Figure size 648x648 with 10 Axes>"
      ]
     },
     "metadata": {
      "needs_background": "light"
     },
     "output_type": "display_data"
    }
   ],
   "source": [
    "#Untouched Digits\n",
    "plt.figure(figsize=(9,9))\n",
    "label = set(tr_labels)\n",
    "Y = np.array(tr_labels)\n",
    "X = tr_images\n",
    "X = np.array(X)\n",
    "for i in label:\n",
    "    plt.subplot(1,10, i+1)\n",
    "    img = X[Y==i, : ][0].reshape(28,28)\n",
    "    #print(img)\n",
    "    plt.imshow(img)"
   ]
  },
  {
   "cell_type": "code",
   "execution_count": 31,
   "metadata": {},
   "outputs": [],
   "source": [
    "def accuracy_score(y_train, y_pred_rf):\n",
    "    return np.mean(y_pred_rf == y_train)"
   ]
  },
  {
   "cell_type": "code",
   "execution_count": 23,
   "metadata": {},
   "outputs": [],
   "source": [
    "#untouched \n",
    "def RandomForest(X_train,y_train, n_estimators, max_depth):\n",
    "    X_train = np.array(X_train)\n",
    "    y_train = np.array(y_train)\n",
    "    clf_rf = RandomForestClassifier(n_estimators = n_estimators, max_depth = max_depth)\n",
    "    clf_rf.fit(X_train, y_train)\n",
    "    y_pred_rf = clf_rf.predict(X_train)\n",
    "    print(type(y_pred_rf))\n",
    "    acc_rf = accuracy_score(y_train, y_pred_rf)\n",
    "    return acc_rf"
   ]
  },
  {
   "cell_type": "code",
   "execution_count": 24,
   "metadata": {},
   "outputs": [
    {
     "name": "stdout",
     "output_type": "stream",
     "text": [
      "<class 'numpy.ndarray'>\n",
      "Train accuracy with n_estimators = 10, max_depth = 4: 0.7558333333333334\n",
      "Time to compute train accuracy: 0:00:03.969352 Train size: 60000\n",
      "<class 'numpy.ndarray'>\n",
      "Test accuracy n_estimators = 10, max_depth = 16: 0.9987\n",
      "Time to compute test accuracy: 0:00:00.959434 Test size: 10000\n",
      "<class 'numpy.ndarray'>\n",
      "Train accuracy n_estimators = 30, max_depth = 4: 0.7849333333333334\n",
      "Time to compute train accuracy: 0:00:06.730999 Train size: 60000\n",
      "<class 'numpy.ndarray'>\n",
      "Test accuracy n_estimators = 30, max_depth = 16: 0.9998\n",
      "Time to compute test accuracy: 0:00:01.980734 Test size: 10000\n"
     ]
    }
   ],
   "source": [
    "\n",
    "t0 = datetime.now()\n",
    "print(\"Train accuracy with n_estimators = 10, max_depth = 4:\", RandomForest(tr_images, tr_labels, 10, 4))\n",
    "print(\"Time to compute train accuracy:\", (datetime.now() - t0), \"Train size:\", len(tr_labels))\n",
    "\n",
    "t0 = datetime.now()\n",
    "print(\"Test accuracy n_estimators = 10, max_depth = 16:\", RandomForest(ts_images, ts_labels, 10, 16))\n",
    "print(\"Time to compute test accuracy:\", (datetime.now() - t0), \"Test size:\", len(ts_labels))\n",
    "\n",
    "t0 = datetime.now()\n",
    "print(\"Train accuracy n_estimators = 30, max_depth = 4:\", RandomForest(tr_images, tr_labels, 30, 4))\n",
    "print(\"Time to compute train accuracy:\", (datetime.now() - t0), \"Train size:\", len(tr_labels))\n",
    "\n",
    "t0 = datetime.now()\n",
    "print(\"Test accuracy n_estimators = 30, max_depth = 16:\", RandomForest(ts_images, ts_labels, 30 , 16))\n",
    "print(\"Time to compute test accuracy:\", (datetime.now() - t0), \"Test size:\", len(ts_labels))\n"
   ]
  },
  {
   "cell_type": "code",
   "execution_count": 25,
   "metadata": {},
   "outputs": [],
   "source": [
    "#Streched bounded\n",
    "\n",
    "def bbox2(img):\n",
    "    img = img.reshape(28,28)\n",
    "    rows = np.any(img, axis=1)\n",
    "    cols = np.any(img, axis=0)\n",
    "    rmin, rmax = np.where(rows)[0][[0, -1]]\n",
    "    cmin, cmax = np.where(cols)[0][[0, -1]]\n",
    "\n",
    "    #print(\"{} {} {} {}\".format(rmin, rmax, cmin, cmax)) \n",
    "    return rmin, rmax, cmin, cmax"
   ]
  },
  {
   "cell_type": "code",
   "execution_count": 26,
   "metadata": {},
   "outputs": [],
   "source": [
    "def StrechedBounded(tr_images):\n",
    "    tr_images = np.array(tr_images)\n",
    "    tr_images1 = []\n",
    "    for img in tr_images:\n",
    "        rmin, rmax, cmin, cmax = bbox2(img)\n",
    "        img = img.reshape(28,28)\n",
    "        image = img[rmin:rmin+rmax, cmin:cmin+cmax]\n",
    "        image = image.flatten()\n",
    "        image.resize((20,20))\n",
    "        #image = cv.rectangle(img, (cmin, rmin), (cmax, cmin), (255,0,0), 2)\n",
    "        image = image.flatten()\n",
    "        tr_images1.append(image)\n",
    "    return tr_images1"
   ]
  },
  {
   "cell_type": "code",
   "execution_count": 27,
   "metadata": {},
   "outputs": [],
   "source": [
    "mndata = MNIST('.')\n",
    "tr_images, tr_labels = mndata.load_training()\n",
    "ts_images, ts_labels = mndata.load_testing()\n",
    "\n",
    "tr_images = StrechedBounded(tr_images)\n",
    "ts_images = StrechedBounded(ts_images)"
   ]
  },
  {
   "cell_type": "code",
   "execution_count": 28,
   "metadata": {},
   "outputs": [
    {
     "name": "stdout",
     "output_type": "stream",
     "text": [
      "<class 'numpy.ndarray'>\n",
      "Train accuracy with n_estimators = 10, max_depth = 4: 0.55775\n",
      "Time to compute train accuracy: 0:00:01.650586 Train size: 60000\n",
      "<class 'numpy.ndarray'>\n",
      "Test accuracy n_estimators = 10, max_depth = 16: 0.9967\n",
      "Time to compute test accuracy: 0:00:00.760991 Test size: 10000\n",
      "<class 'numpy.ndarray'>\n",
      "Train accuracy n_estimators = 30, max_depth = 4: 0.5870333333333333\n",
      "Time to compute train accuracy: 0:00:04.284514 Train size: 60000\n",
      "<class 'numpy.ndarray'>\n",
      "Test accuracy n_estimators = 30, max_depth = 16: 0.9994\n",
      "Time to compute test accuracy: 0:00:01.805174 Test size: 10000\n"
     ]
    }
   ],
   "source": [
    "t0 = datetime.now()\n",
    "print(\"Train accuracy with n_estimators = 10, max_depth = 4:\", RandomForest(tr_images, tr_labels, 10, 4))\n",
    "print(\"Time to compute train accuracy:\", (datetime.now() - t0), \"Train size:\", len(tr_labels))\n",
    "\n",
    "t0 = datetime.now()\n",
    "print(\"Test accuracy n_estimators = 10, max_depth = 16:\", RandomForest(ts_images, ts_labels, 10, 16))\n",
    "print(\"Time to compute test accuracy:\", (datetime.now() - t0), \"Test size:\", len(ts_labels))\n",
    "\n",
    "t0 = datetime.now()\n",
    "print(\"Train accuracy n_estimators = 30, max_depth = 4:\", RandomForest(tr_images, tr_labels, 30, 4))\n",
    "print(\"Time to compute train accuracy:\", (datetime.now() - t0), \"Train size:\", len(tr_labels))\n",
    "\n",
    "t0 = datetime.now()\n",
    "print(\"Test accuracy n_estimators = 30, max_depth = 16:\", RandomForest(ts_images, ts_labels, 30 , 16))\n",
    "print(\"Time to compute test accuracy:\", (datetime.now() - t0), \"Test size:\", len(ts_labels))"
   ]
  },
  {
   "cell_type": "code",
   "execution_count": 81,
   "metadata": {},
   "outputs": [
    {
     "data": {
      "image/png": "[encoded data removed]",
      "text/plain": [
       "<Figure size 648x648 with 10 Axes>"
      ]
     },
     "metadata": {
      "needs_background": "light"
     },
     "output_type": "display_data"
    }
   ],
   "source": [
    "#Digits in bounded box\n",
    "plt.figure(figsize=(9,9))\n",
    "label = set(tr_labels)\n",
    "Y = np.array(tr_labels)\n",
    "X = tr_images\n",
    "X = np.array(X)\n",
    "for i in label:\n",
    "    plt.subplot(1,10, i+1)\n",
    "    img = X[Y==i, : ][0].reshape(20,20)\n",
    "    #print(img)\n",
    "    plt.imshow(img)"
   ]
  },
  {
   "cell_type": "code",
   "execution_count": null,
   "metadata": {},
   "outputs": [],
   "source": []
  }
 ],
 "metadata": {
  "kernelspec": {
   "display_name": "Python 3",
   "language": "python",
   "name": "python3"
  },
  "language_info": {
   "codemirror_mode": {
    "name": "ipython",
    "version": 3
   },
   "file_extension": ".py",
   "mimetype": "text/x-python",
   "name": "python",
   "nbconvert_exporter": "python",
   "pygments_lexer": "ipython3",
   "version": "3.7.1"
  }
 },
 "nbformat": 4,
 "nbformat_minor": 2
}
